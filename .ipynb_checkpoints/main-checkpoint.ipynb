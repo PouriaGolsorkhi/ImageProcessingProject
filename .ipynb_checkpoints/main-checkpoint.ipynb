{
 "cells": [
  {
   "cell_type": "code",
   "execution_count": null,
   "id": "48d61423-cc01-45e1-bb3a-59dc18416a9f",
   "metadata": {},
   "outputs": [],
   "source": [
    "%load_ext autoreload\n",
    "%autoreload 2"
   ]
  },
  {
   "cell_type": "code",
   "execution_count": null,
   "id": "ad098a9c-f432-4345-9a1e-3a7aeb72301b",
   "metadata": {},
   "outputs": [],
   "source": [
    "import matplotlib.pyplot as plt\n",
    "import cv2\n",
    "import numpy as np\n",
    "from retinaface import RetinaFace\n",
    "import os"
   ]
  },
  {
   "cell_type": "code",
   "execution_count": null,
   "id": "78be4b12-450d-4da5-b85d-3f929e41231e",
   "metadata": {},
   "outputs": [],
   "source": [
    "path = \"faces/\"\n",
    "images = os.listdir(path)"
   ]
  },
  {
   "cell_type": "code",
   "execution_count": null,
   "id": "9ec3d5a3-4bab-4f80-9871-7e2824d3101a",
   "metadata": {},
   "outputs": [],
   "source": [
    "print(len(images))"
   ]
  },
  {
   "cell_type": "code",
   "execution_count": null,
   "id": "4f867a5b-9693-4af3-8b60-de25b26501de",
   "metadata": {},
   "outputs": [],
   "source": [
    "import convolution_func_from_scratch as conv"
   ]
  },
  {
   "cell_type": "code",
   "execution_count": null,
   "id": "98ce95ba-4d07-44f0-b898-4c6fc2fa4298",
   "metadata": {},
   "outputs": [],
   "source": [
    "identity_kernel = np.array([[0,0,0],[0,1,0], [0,0,0]])\n",
    "left_sobel = np.array([[1,0,-1],[2,0,-2],[1,0,-1]])\n",
    "blur_kernel = np.array([[1/16, 1/8 , 1/16], [1/16, 1/4, 1/16], [1/16, 1/8, 1/16]])\n",
    "random_kernel = np.random.randint(-5,7, size=(3,3))"
   ]
  },
  {
   "cell_type": "code",
   "execution_count": null,
   "id": "5f2070d1-7e9a-4509-aa22-77e0df47c8fa",
   "metadata": {},
   "outputs": [],
   "source": [
    "test_image = cv2.imread(f\"{path}{images[3]}\")\n",
    "test_image = cv2.cvtColor(test_image, cv2.COLOR_BGR2RGB)"
   ]
  },
  {
   "cell_type": "code",
   "execution_count": null,
   "id": "93715117-aa2d-4875-aa89-c5442e2d0dc0",
   "metadata": {},
   "outputs": [],
   "source": [
    "imgUnderIdentityKernel = conv.applyConvOnImage(test_image, identity_kernel)\n",
    "BluredImag = conv.applyConvOnImage(test_image, blur_kernel)\n",
    "leftSobeled = conv.applyConvOnImage(test_image, left_sobel)"
   ]
  },
  {
   "cell_type": "code",
   "execution_count": null,
   "id": "dbd1953a-c6ee-4020-b664-bbeef21577cd",
   "metadata": {},
   "outputs": [],
   "source": [
    "randomlyAlteredImg = conv.applyConvOnImage(test_image, random_kernel)"
   ]
  },
  {
   "cell_type": "code",
   "execution_count": null,
   "id": "3bd4fb58-9ae0-4942-be7e-1ac3cff0b8e6",
   "metadata": {},
   "outputs": [],
   "source": [
    "plt.imshow(test_image)"
   ]
  },
  {
   "cell_type": "code",
   "execution_count": null,
   "id": "91430893-6df3-4880-bf29-f6c6277016da",
   "metadata": {},
   "outputs": [],
   "source": [
    "plt.imshow(imgUnderIdentityKernel)"
   ]
  },
  {
   "cell_type": "code",
   "execution_count": null,
   "id": "879ffb31-f800-455d-8a08-90f9991ad46e",
   "metadata": {},
   "outputs": [],
   "source": [
    "plt.imshow(leftSobeled)"
   ]
  },
  {
   "cell_type": "code",
   "execution_count": null,
   "id": "27215edb-a3cb-45da-8c1e-74e6b12f2640",
   "metadata": {},
   "outputs": [],
   "source": [
    "plt.imshow(BluredImag)"
   ]
  },
  {
   "cell_type": "code",
   "execution_count": null,
   "id": "180489ab-2eb6-4802-84a4-dbd2b79e79ff",
   "metadata": {},
   "outputs": [],
   "source": [
    "plt.imshow(randomlyAlteredImg)"
   ]
  },
  {
   "cell_type": "markdown",
   "id": "fa7b9fc9-3ffd-4f5c-8e04-c0521fb0cdd6",
   "metadata": {},
   "source": [
    "removing black & white images:"
   ]
  },
  {
   "cell_type": "code",
   "execution_count": null,
   "id": "321711c4-6e8b-4ea1-9b52-e45894cf3da9",
   "metadata": {},
   "outputs": [],
   "source": [
    "for i in range(len(images)):\n",
    "    temp = cv2.imread(f\"{path}{images[i]}\")\n",
    "    if temp is not None:\n",
    "\n",
    "        \n",
    "        grayScaledImg = cv2.cvtColor(temp, cv2.COLOR_BGR2GRAY)\n",
    "        b,g,r = cv2.split(temp)\n",
    "    \n",
    "        if (np.allclose(b,grayScaledImg,atol=15) and np.allclose(g,grayScaledImg, atol=15) and np.allclose(r,grayScaledImg, atol=15)) or (np.array_equal(b,grayScaledImg) and np.array_equal(g,grayScaledImg) and np.array_equal(r,grayScaledImg)) :\n",
    "            print(f\"{path}{images[i]}\")\n",
    "            try:\n",
    "                os.remove(f\"{path}{images[i]}\")\n",
    "            except FileNotFoundError:\n",
    "                print(\"File not available\")\n",
    "            except PermissionError:\n",
    "                print(\"not permitted!\")\n",
    "\n",
    "        "
   ]
  },
  {
   "cell_type": "markdown",
   "id": "fa9e5128-b864-41b1-8ed7-a9800f4af665",
   "metadata": {},
   "source": [
    "Face Detection:"
   ]
  },
  {
   "cell_type": "code",
   "execution_count": 292,
   "id": "d67b15dc-8679-490a-ab49-e2079404fd4b",
   "metadata": {},
   "outputs": [],
   "source": [
    "import Face_Detection_Module as fdm"
   ]
  },
  {
   "cell_type": "code",
   "execution_count": 293,
   "id": "a0796c8d-6f6f-4bbd-8835-b839353af5bc",
   "metadata": {},
   "outputs": [],
   "source": [
    "faces = fdm.faceDetector(images,path)"
   ]
  },
  {
   "cell_type": "code",
   "execution_count": 303,
   "id": "ea3ba16b-eea6-47a0-8f62-220d7b720eff",
   "metadata": {},
   "outputs": [
    {
     "name": "stdout",
     "output_type": "stream",
     "text": [
      "[{'face_1': {'score': 0.9996563196182251, 'facial_area': [1124, 173, 1246, 349], 'landmarks': {'right_eye': [1143.3701, 232.63759], 'left_eye': [1166.2758, 233.8502], 'nose': [1125.7775, 268.3196], 'mouth_right': [1148.5125, 304.43787], 'mouth_left': [1164.5635, 303.99713]}}, 'face_2': {'score': 0.9994809031486511, 'facial_area': [641, 87, 753, 250], 'landmarks': {'right_eye': [652.25757, 153.69806], 'left_eye': [692.36237, 152.13393], 'nose': [653.4179, 179.89053], 'mouth_right': [654.38086, 213.66472], 'mouth_left': [683.0866, 212.76395]}}, 'face_3': {'score': 0.9993606209754944, 'facial_area': [406, 192, 518, 341], 'landmarks': {'right_eye': [419.54257, 250.45268], 'left_eye': [464.93796, 248.55225], 'nose': [426.448, 271.9869], 'mouth_right': [419.8275, 306.64056], 'mouth_left': [452.30652, 305.68542]}}, 'face_4': {'score': 0.9993184804916382, 'facial_area': [526, 182, 644, 316], 'landmarks': {'right_eye': [543.7982, 240.64294], 'left_eye': [588.7162, 235.4733], 'nose': [561.14575, 275.1735], 'mouth_right': [567.1794, 292.93234], 'mouth_left': [598.14453, 287.66776]}}, 'face_5': {'score': 0.9993102550506592, 'facial_area': [969, 181, 1102, 373], 'landmarks': {'right_eye': [981.29614, 262.73077], 'left_eye': [1022.104, 262.06595], 'nose': [978.6932, 299.17722], 'mouth_right': [991.484, 333.12576], 'mouth_left': [1019.80194, 332.69595]}}, 'face_6': {'score': 0.9990584254264832, 'facial_area': [286, 205, 393, 342], 'landmarks': {'right_eye': [298.833, 258.71515], 'left_eye': [344.82385, 256.06595], 'nose': [312.6632, 283.41513], 'mouth_right': [305.40417, 311.43286], 'mouth_left': [338.965, 309.7666]}}, 'face_7': {'score': 0.9986739158630371, 'facial_area': [846, 220, 951, 382], 'landmarks': {'right_eye': [857.4387, 286.6592], 'left_eye': [889.77, 288.76437], 'nose': [854.54596, 320.0465], 'mouth_right': [866.8185, 346.0668], 'mouth_left': [890.87463, 346.5907]}}, 'face_8': {'score': 0.9985862970352173, 'facial_area': [1314, 150, 1454, 362], 'landmarks': {'right_eye': [1344.4952, 221.95966], 'left_eye': [1373.2382, 235.96912], 'nose': [1321.1024, 266.28967], 'mouth_right': [1335.1029, 303.20303], 'mouth_left': [1355.3688, 312.29843]}}, 'face_9': {'score': 0.9971405267715454, 'facial_area': [768, 187, 869, 358], 'landmarks': {'right_eye': [777.45557, 258.3359], 'left_eye': [824.6067, 249.3746], 'nose': [794.72437, 293.27606], 'mouth_right': [796.6014, 322.6778], 'mouth_left': [832.6569, 314.86322]}}, 'face_10': {'score': 0.9880395531654358, 'facial_area': [232, 269, 315, 400], 'landmarks': {'right_eye': [246.69838, 320.03925], 'left_eye': [286.9643, 319.19876], 'nose': [262.72324, 348.71747], 'mouth_right': [252.45364, 372.42487], 'mouth_left': [282.23727, 371.9784]}}, 'face_11': {'score': 0.9859602451324463, 'facial_area': [188, 179, 274, 310], 'landmarks': {'right_eye': [201.58832, 232.12], 'left_eye': [239.69617, 230.59639], 'nose': [213.21162, 255.25377], 'mouth_right': [207.14673, 281.87244], 'mouth_left': [234.77191, 280.67035]}}, 'face_12': {'score': 0.960793137550354, 'facial_area': [1535, 246, 1599, 441], 'landmarks': {'right_eye': [1558.7377, 312.57965], 'left_eye': [1576.3922, 320.83163], 'nose': [1538.6367, 359.94882], 'mouth_right': [1566.1735, 391.7117], 'mouth_left': [1578.9617, 396.01938]}}}, {'face_1': {'score': 0.9990111589431763, 'facial_area': [7, 864, 261, 1249], 'landmarks': {'right_eye': [167.25838, 1025.356], 'left_eye': [231.93034, 1019.232], 'nose': [251.83194, 1097.2224], 'mouth_right': [167.16533, 1163.3129], 'mouth_left': [210.89856, 1161.0023]}}, 'face_2': {'score': 0.998157799243927, 'facial_area': [2143, 447, 2451, 883], 'landmarks': {'right_eye': [2266.873, 637.30115], 'left_eye': [2399.4888, 647.9778], 'nose': [2349.6301, 713.98474], 'mouth_right': [2266.5566, 777.7498], 'mouth_left': [2376.2646, 787.1392]}}, 'face_3': {'score': 0.9963164329528809, 'facial_area': [1380, 448, 1653, 880], 'landmarks': {'right_eye': [1561.3351, 617.4951], 'left_eye': [1622.7539, 613.7963], 'nose': [1649.2023, 702.32196], 'mouth_right': [1547.7053, 772.8116], 'mouth_left': [1594.9617, 773.74]}}}, {'face_1': {'score': 0.999154806137085, 'facial_area': [508, 78, 536, 113], 'landmarks': {'right_eye': [515.2548, 92.69942], 'left_eye': [527.59717, 91.22286], 'nose': [521.67834, 99.02684], 'mouth_right': [517.86487, 104.003105], 'mouth_left': [529.3682, 102.60594]}}, 'face_2': {'score': 0.9989932179450989, 'facial_area': [453, 98, 479, 133], 'landmarks': {'right_eye': [460.30057, 112.38719], 'left_eye': [472.23877, 111.37392], 'nose': [466.6523, 118.32596], 'mouth_right': [461.77924, 123.550705], 'mouth_left': [472.90372, 122.62528]}}, 'face_3': {'score': 0.9981594681739807, 'facial_area': [334, 79, 361, 112], 'landmarks': {'right_eye': [341.5085, 92.873375], 'left_eye': [353.62845, 92.14239], 'nose': [348.12546, 97.80229], 'mouth_right': [343.22577, 103.278], 'mouth_left': [354.4066, 102.65095]}}, 'face_4': {'score': 0.9980897307395935, 'facial_area': [386, 115, 414, 152], 'landmarks': {'right_eye': [395.19537, 129.02858], 'left_eye': [408.26526, 128.68901], 'nose': [402.69275, 136.03714], 'mouth_right': [395.5311, 141.69199], 'mouth_left': [407.80313, 141.41862]}}, 'face_5': {'score': 0.9977411031723022, 'facial_area': [441, 59, 462, 85], 'landmarks': {'right_eye': [445.83365, 70.15669], 'left_eye': [455.73032, 69.64487], 'nose': [450.4412, 73.42806], 'mouth_right': [447.24606, 78.900276], 'mouth_left': [455.45782, 78.49846]}}, 'face_6': {'score': 0.9972739815711975, 'facial_area': [288, 108, 315, 142], 'landmarks': {'right_eye': [297.1852, 121.801254], 'left_eye': [308.8447, 120.893486], 'nose': [303.93164, 128.1927], 'mouth_right': [299.42697, 134.4029], 'mouth_left': [308.5133, 133.57892]}}, 'face_7': {'score': 0.9971752166748047, 'facial_area': [467, 65, 493, 97], 'landmarks': {'right_eye': [473.42023, 77.998634], 'left_eye': [484.8119, 77.27636], 'nose': [478.9027, 83.41846], 'mouth_right': [475.1579, 88.835846], 'mouth_left': [485.06006, 88.254906]}}, 'face_8': {'score': 0.9970957040786743, 'facial_area': [343, 40, 366, 66], 'landmarks': {'right_eye': [349.9385, 48.222504], 'left_eye': [361.15405, 48.292473], 'nose': [355.85513, 52.002316], 'mouth_right': [350.9639, 58.337162], 'mouth_left': [360.50916, 58.43743]}}, 'face_9': {'score': 0.996577799320221, 'facial_area': [372, 56, 398, 87], 'landmarks': {'right_eye': [379.27213, 67.527115], 'left_eye': [390.52606, 67.031685], 'nose': [385.17188, 70.78396], 'mouth_right': [380.65585, 77.353355], 'mouth_left': [391.17883, 76.90925]}}, 'face_10': {'score': 0.9965646862983704, 'facial_area': [78, 71, 104, 101], 'landmarks': {'right_eye': [87.496475, 83.37936], 'left_eye': [99.832825, 81.57874], 'nose': [95.95353, 89.531235], 'mouth_right': [89.94159, 94.56312], 'mouth_left': [100.02445, 93.047035]}}, 'face_11': {'score': 0.9962385892868042, 'facial_area': [506, 28, 530, 59], 'landmarks': {'right_eye': [511.74307, 40.582745], 'left_eye': [522.8766, 39.92324], 'nose': [516.9129, 44.27293], 'mouth_right': [513.0108, 50.73055], 'mouth_left': [522.5031, 50.247463]}}, 'face_12': {'score': 0.9960281848907471, 'facial_area': [502, 133, 531, 167], 'landmarks': {'right_eye': [507.698, 145.6163], 'left_eye': [520.1191, 142.76065], 'nose': [513.7711, 151.15149], 'mouth_right': [511.48837, 157.92517], 'mouth_left': [522.6668, 155.32951]}}, 'face_13': {'score': 0.9948775172233582, 'facial_area': [4, 52, 28, 77], 'landmarks': {'right_eye': [11.733473, 62.81728], 'left_eye': [21.605352, 58.786915], 'nose': [19.667833, 64.042175], 'mouth_right': [17.3506, 71.52314], 'mouth_left': [25.18526, 68.33372]}}, 'face_14': {'score': 0.9918928146362305, 'facial_area': [191, 80, 218, 112], 'landmarks': {'right_eye': [200.805, 91.85991], 'left_eye': [213.1688, 90.96101], 'nose': [208.99666, 97.65795], 'mouth_right': [202.46245, 103.91085], 'mouth_left': [212.95857, 103.15132]}}, 'face_15': {'score': 0.9916703701019287, 'facial_area': [157, 41, 180, 66], 'landmarks': {'right_eye': [164.3245, 50.646114], 'left_eye': [174.84698, 51.117344], 'nose': [170.0123, 54.529274], 'mouth_right': [165.61917, 59.820698], 'mouth_left': [173.42505, 60.192276]}}, 'face_16': {'score': 0.9894486665725708, 'facial_area': [86, 44, 109, 68], 'landmarks': {'right_eye': [94.78528, 52.085407], 'left_eye': [104.67803, 53.748447], 'nose': [100.33394, 55.41803], 'mouth_right': [94.86526, 60.51343], 'mouth_left': [102.621666, 61.84968]}}, 'face_17': {'score': 0.9886767864227295, 'facial_area': [167, 92, 194, 121], 'landmarks': {'right_eye': [175.13995, 106.09761], 'left_eye': [186.15485, 101.38576], 'nose': [183.45103, 108.152245], 'mouth_right': [179.81116, 114.30585], 'mouth_left': [189.7658, 110.50206]}}, 'face_18': {'score': 0.9772014617919922, 'facial_area': [420, 78, 445, 109], 'landmarks': {'right_eye': [426.62753, 89.63359], 'left_eye': [437.9456, 89.157616], 'nose': [432.49005, 93.67235], 'mouth_right': [428.45844, 100.37931], 'mouth_left': [437.91058, 99.94646]}}, 'face_19': {'score': 0.9758166670799255, 'facial_area': [205, 44, 225, 68], 'landmarks': {'right_eye': [208.8157, 53.857662], 'left_eye': [218.63672, 52.800358], 'nose': [213.28767, 56.37671], 'mouth_right': [210.67918, 62.081367], 'mouth_left': [218.56285, 61.258167]}}, 'face_20': {'score': 0.9740461111068726, 'facial_area': [417, 55, 438, 80], 'landmarks': {'right_eye': [421.898, 64.91826], 'left_eye': [432.1921, 66.014435], 'nose': [425.93896, 69.50228], 'mouth_right': [422.13672, 74.36782], 'mouth_left': [429.8158, 75.20578]}}, 'face_21': {'score': 0.971803605556488, 'facial_area': [285, 80, 313, 109], 'landmarks': {'right_eye': [297.5055, 90.14572], 'left_eye': [309.51044, 91.49059], 'nose': [305.6922, 96.13827], 'mouth_right': [298.92703, 101.80927], 'mouth_left': [307.95163, 102.76523]}}, 'face_22': {'score': 0.9547653794288635, 'facial_area': [44, 74, 69, 108], 'landmarks': {'right_eye': [51.816357, 84.586174], 'left_eye': [62.741856, 85.221016], 'nose': [57.64513, 89.44671], 'mouth_right': [52.7591, 96.513275], 'mouth_left': [61.940334, 96.99927]}}, 'face_23': {'score': 0.9149625301361084, 'facial_area': [29, 96, 56, 125], 'landmarks': {'right_eye': [42.876205, 105.18848], 'left_eye': [53.19052, 105.388596], 'nose': [50.739567, 111.21515], 'mouth_right': [42.97823, 116.330986], 'mouth_left': [51.92254, 116.715805]}}}, {'face_1': {'score': 0.9994462132453918, 'facial_area': [56, 44, 173, 206], 'landmarks': {'right_eye': [86.24645, 106.00147], 'left_eye': [140.93861, 107.514366], 'nose': [110.9864, 140.4798], 'mouth_right': [89.71017, 166.37425], 'mouth_left': [134.11086, 167.41885]}}}, {'face_1': {'score': 0.9996869564056396, 'facial_area': [40, 44, 136, 162], 'landmarks': {'right_eye': [61.145485, 96.673195], 'left_eye': [102.18676, 83.148094], 'nose': [86.097534, 107.967606], 'mouth_right': [79.65956, 139.55302], 'mouth_left': [111.05251, 127.98424]}}}, {'face_1': {'score': 0.9999369382858276, 'facial_area': [177, 26, 216, 87], 'landmarks': {'right_eye': [183.74092, 50.588367], 'left_eye': [191.40886, 52.202415], 'nose': [178.2655, 61.522533], 'mouth_right': [183.57127, 72.26644], 'mouth_left': [188.95177, 73.361115]}}, 'face_2': {'score': 0.9997538924217224, 'facial_area': [84, 30, 127, 90], 'landmarks': {'right_eye': [106.27194, 57.478676], 'left_eye': [121.65966, 54.52436], 'nose': [121.996185, 65.9111], 'mouth_right': [109.48301, 76.556786], 'mouth_left': [122.48517, 74.27942]}}}]\n"
     ]
    }
   ],
   "source": [
    "print(faces)"
   ]
  },
  {
   "cell_type": "code",
   "execution_count": 296,
   "id": "40ab9f27-2796-484a-9b86-b9e94784d9aa",
   "metadata": {},
   "outputs": [
    {
     "name": "stdout",
     "output_type": "stream",
     "text": [
      "6\n"
     ]
    }
   ],
   "source": [
    "print(len(faces))"
   ]
  },
  {
   "cell_type": "code",
   "execution_count": 300,
   "id": "eb5e0804-a2aa-4880-8d7e-cb9612e5e486",
   "metadata": {},
   "outputs": [],
   "source": [
    "def isFrontal(face):\n",
    "    landmarks = face['landmarks']\n",
    "    right_eye = landmarks['right_eye']\n",
    "    left_eye = landmarks['left_eye']\n",
    "    nose = landmarks['nose']\n",
    "    mouth_right = landmarks['mouth_right']\n",
    "    mouth_left = landmarks['mouth_left']\n",
    "    eye_distance = np.linalg.norm(np.array(right_eye) - np.array(left_eye))\n",
    "    mouth_distance = np.linalg.norm(np.array(mouth_right) - np.array(mouth_left))\n",
    "    nose_to_eye_distance = np.linalg.norm(np.array(nose) - np.array(left_eye))\n",
    "            \n",
    "    if abs(eye_distance - mouth_distance) < 10 and abs(nose_to_eye_distance - eye_distance / 2) < 10:\n",
    "        return True\n",
    "    return False\n",
    "    "
   ]
  },
  {
   "cell_type": "code",
   "execution_count": 307,
   "id": "e6db01b2-cfb7-4e1b-a8b7-ff7c83ecd85f",
   "metadata": {},
   "outputs": [],
   "source": [
    "for i in range(0,len(faces)):\n",
    "    for key in faces[i].keys():\n",
    "        if isFrontal(faces[i][key]) :\n",
    "            saveDir = 'frontal_faces/'\n",
    "            if not os.path.exists(saveDir):\n",
    "                os.makedirs(saveDir)\n",
    "            cv2.imwrite(f\"{saveDir}{path}{images[i]}\", cv2.imread(f\"{path}{images[i]}\"))\n",
    "        "
   ]
  },
  {
   "cell_type": "code",
   "execution_count": null,
   "id": "e7371f98-3fd9-4f0f-8d9e-c66376928ea6",
   "metadata": {},
   "outputs": [],
   "source": []
  }
 ],
 "metadata": {
  "kernelspec": {
   "display_name": "Python 3 (ipykernel)",
   "language": "python",
   "name": "python3"
  },
  "language_info": {
   "codemirror_mode": {
    "name": "ipython",
    "version": 3
   },
   "file_extension": ".py",
   "mimetype": "text/x-python",
   "name": "python",
   "nbconvert_exporter": "python",
   "pygments_lexer": "ipython3",
   "version": "3.12.4"
  }
 },
 "nbformat": 4,
 "nbformat_minor": 5
}
