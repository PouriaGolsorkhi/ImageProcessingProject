{
 "cells": [
  {
   "cell_type": "code",
   "execution_count": null,
   "id": "48d61423-cc01-45e1-bb3a-59dc18416a9f",
   "metadata": {},
   "outputs": [],
   "source": [
    "%load_ext autoreload\n",
    "%autoreload 2"
   ]
  },
  {
   "cell_type": "code",
   "execution_count": null,
   "id": "ad098a9c-f432-4345-9a1e-3a7aeb72301b",
   "metadata": {},
   "outputs": [],
   "source": [
    "import matplotlib.pyplot as plt\n",
    "import cv2\n",
    "import numpy as np\n",
    "from retinaface import RetinaFace\n",
    "import os"
   ]
  },
  {
   "cell_type": "code",
   "execution_count": null,
   "id": "78be4b12-450d-4da5-b85d-3f929e41231e",
   "metadata": {},
   "outputs": [],
   "source": [
    "path = \"faces/\"\n",
    "images = os.listdir(path)"
   ]
  },
  {
   "cell_type": "code",
   "execution_count": null,
   "id": "9ec3d5a3-4bab-4f80-9871-7e2824d3101a",
   "metadata": {},
   "outputs": [],
   "source": [
    "print(len(images))"
   ]
  },
  {
   "cell_type": "code",
   "execution_count": null,
   "id": "4f867a5b-9693-4af3-8b60-de25b26501de",
   "metadata": {},
   "outputs": [],
   "source": [
    "import convolution_func_from_scratch as conv"
   ]
  },
  {
   "cell_type": "code",
   "execution_count": null,
   "id": "98ce95ba-4d07-44f0-b898-4c6fc2fa4298",
   "metadata": {},
   "outputs": [],
   "source": [
    "identity_kernel = np.array([[0,0,0],[0,1,0], [0,0,0]])\n",
    "left_sobel = np.array([[1,0,-1],[2,0,-2],[1,0,-1]])\n",
    "blur_kernel = np.array([[1/16, 1/8 , 1/16], [1/16, 1/4, 1/16], [1/16, 1/8, 1/16]])\n",
    "random_kernel = np.random.randint(-5,7, size=(3,3))"
   ]
  },
  {
   "cell_type": "code",
   "execution_count": null,
   "id": "5f2070d1-7e9a-4509-aa22-77e0df47c8fa",
   "metadata": {},
   "outputs": [],
   "source": [
    "test_image = cv2.imread(f\"{path}{images[3]}\")\n",
    "test_image = cv2.cvtColor(test_image, cv2.COLOR_BGR2RGB)"
   ]
  },
  {
   "cell_type": "code",
   "execution_count": null,
   "id": "93715117-aa2d-4875-aa89-c5442e2d0dc0",
   "metadata": {},
   "outputs": [],
   "source": [
    "imgUnderIdentityKernel = conv.applyConvOnImage(test_image, identity_kernel)\n",
    "BluredImag = conv.applyConvOnImage(test_image, blur_kernel)\n",
    "leftSobeled = conv.applyConvOnImage(test_image, left_sobel)"
   ]
  },
  {
   "cell_type": "code",
   "execution_count": null,
   "id": "dbd1953a-c6ee-4020-b664-bbeef21577cd",
   "metadata": {},
   "outputs": [],
   "source": [
    "randomlyAlteredImg = conv.applyConvOnImage(test_image, random_kernel)"
   ]
  },
  {
   "cell_type": "code",
   "execution_count": null,
   "id": "3bd4fb58-9ae0-4942-be7e-1ac3cff0b8e6",
   "metadata": {},
   "outputs": [],
   "source": [
    "plt.imshow(test_image)"
   ]
  },
  {
   "cell_type": "code",
   "execution_count": null,
   "id": "91430893-6df3-4880-bf29-f6c6277016da",
   "metadata": {},
   "outputs": [],
   "source": [
    "plt.imshow(imgUnderIdentityKernel)"
   ]
  },
  {
   "cell_type": "code",
   "execution_count": null,
   "id": "879ffb31-f800-455d-8a08-90f9991ad46e",
   "metadata": {},
   "outputs": [],
   "source": [
    "plt.imshow(leftSobeled)"
   ]
  },
  {
   "cell_type": "code",
   "execution_count": null,
   "id": "27215edb-a3cb-45da-8c1e-74e6b12f2640",
   "metadata": {},
   "outputs": [],
   "source": [
    "plt.imshow(BluredImag)"
   ]
  },
  {
   "cell_type": "code",
   "execution_count": null,
   "id": "180489ab-2eb6-4802-84a4-dbd2b79e79ff",
   "metadata": {},
   "outputs": [],
   "source": [
    "plt.imshow(randomlyAlteredImg)"
   ]
  },
  {
   "cell_type": "markdown",
   "id": "fa7b9fc9-3ffd-4f5c-8e04-c0521fb0cdd6",
   "metadata": {},
   "source": [
    "removing black & white images:"
   ]
  },
  {
   "cell_type": "code",
   "execution_count": null,
   "id": "321711c4-6e8b-4ea1-9b52-e45894cf3da9",
   "metadata": {},
   "outputs": [],
   "source": [
    "for i in range(len(images)):\n",
    "    temp = cv2.imread(f\"{path}{images[i]}\")\n",
    "    if temp is not None:\n",
    "\n",
    "        \n",
    "        grayScaledImg = cv2.cvtColor(temp, cv2.COLOR_BGR2GRAY)\n",
    "        b,g,r = cv2.split(temp)\n",
    "    \n",
    "        if (np.allclose(b,grayScaledImg,atol=15) and np.allclose(g,grayScaledImg, atol=15) and np.allclose(r,grayScaledImg, atol=15)) or (np.array_equal(b,grayScaledImg) and np.array_equal(g,grayScaledImg) and np.array_equal(r,grayScaledImg)) :\n",
    "            print(f\"{path}{images[i]}\")\n",
    "            try:\n",
    "                os.remove(f\"{path}{images[i]}\")\n",
    "            except FileNotFoundError:\n",
    "                print(\"File not available\")\n",
    "            except PermissionError:\n",
    "                print(\"not permitted!\")\n",
    "\n",
    "        "
   ]
  },
  {
   "cell_type": "markdown",
   "id": "fa9e5128-b864-41b1-8ed7-a9800f4af665",
   "metadata": {},
   "source": [
    "Face Detection (module):"
   ]
  },
  {
   "cell_type": "code",
   "execution_count": null,
   "id": "d67b15dc-8679-490a-ab49-e2079404fd4b",
   "metadata": {},
   "outputs": [],
   "source": [
    "import Face_Detection_Module as fdm"
   ]
  },
  {
   "cell_type": "code",
   "execution_count": null,
   "id": "a0796c8d-6f6f-4bbd-8835-b839353af5bc",
   "metadata": {},
   "outputs": [],
   "source": [
    "faces = fdm.faceDetector(images,path)"
   ]
  },
  {
   "cell_type": "code",
   "execution_count": null,
   "id": "ea3ba16b-eea6-47a0-8f62-220d7b720eff",
   "metadata": {},
   "outputs": [],
   "source": [
    "print(faces)"
   ]
  },
  {
   "cell_type": "code",
   "execution_count": null,
   "id": "40ab9f27-2796-484a-9b86-b9e94784d9aa",
   "metadata": {},
   "outputs": [],
   "source": [
    "print(len(faces))"
   ]
  },
  {
   "cell_type": "markdown",
   "id": "d42c8349-09b7-4a99-9a61-f745893dbcb7",
   "metadata": {},
   "source": [
    "Decision Function:"
   ]
  },
  {
   "cell_type": "code",
   "execution_count": null,
   "id": "eb5e0804-a2aa-4880-8d7e-cb9612e5e486",
   "metadata": {},
   "outputs": [],
   "source": [
    "def isFrontal(face):\n",
    "\n",
    "    #face feature extraction:\n",
    "    \n",
    "    landmarks = face['landmarks']\n",
    "    right_eye = landmarks['right_eye']\n",
    "    left_eye = landmarks['left_eye']\n",
    "    nose = landmarks['nose']\n",
    "    horizontal_center_of_eyes = (right_eye[0] + left_eye[0])/2\n",
    "            \n",
    "    if abs(right_eye[1]-left_eye[1]) < 3.5 and abs(nose[0]-horizontal_center_of_eyes) < 3.5:\n",
    "        return True\n",
    "    return False\n",
    "    "
   ]
  },
  {
   "cell_type": "markdown",
   "id": "508c7cab-12db-406a-b47e-07468effdc0e",
   "metadata": {},
   "source": [
    "Filtering Function:"
   ]
  },
  {
   "cell_type": "code",
   "execution_count": null,
   "id": "e6db01b2-cfb7-4e1b-a8b7-ff7c83ecd85f",
   "metadata": {},
   "outputs": [],
   "source": [
    "def filtering_function(pth , imgs, faces):\n",
    "    for i in range(0,len(faces)):\n",
    "        for key in faces[i].keys():\n",
    "            if isFrontal(faces[i][key]) :\n",
    "                saveDir = 'frontal_faces/'\n",
    "                if not os.path.exists(saveDir):\n",
    "                    os.makedirs(saveDir)\n",
    "                cv2.imwrite(f\"{saveDir}{imgs[i]}\", cv2.imread(f\"{pth}{imgs[i]}\"))\n",
    "                break\n",
    "        "
   ]
  },
  {
   "cell_type": "code",
   "execution_count": null,
   "id": "e7371f98-3fd9-4f0f-8d9e-c66376928ea6",
   "metadata": {},
   "outputs": [],
   "source": [
    "filtering_function(path, images, faces)"
   ]
  },
  {
   "cell_type": "code",
   "execution_count": null,
   "id": "11b67915-99d8-4819-a291-d411c69c3e6b",
   "metadata": {},
   "outputs": [],
   "source": []
  },
  {
   "cell_type": "code",
   "execution_count": null,
   "id": "78cdff4c-f136-4ae3-b98e-5ab4dd666bb3",
   "metadata": {},
   "outputs": [],
   "source": []
  }
 ],
 "metadata": {
  "kernelspec": {
   "display_name": "Python 3 (ipykernel)",
   "language": "python",
   "name": "python3"
  },
  "language_info": {
   "codemirror_mode": {
    "name": "ipython",
    "version": 3
   },
   "file_extension": ".py",
   "mimetype": "text/x-python",
   "name": "python",
   "nbconvert_exporter": "python",
   "pygments_lexer": "ipython3",
   "version": "3.12.4"
  }
 },
 "nbformat": 4,
 "nbformat_minor": 5
}
