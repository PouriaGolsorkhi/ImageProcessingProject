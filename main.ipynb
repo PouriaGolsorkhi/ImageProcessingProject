{
 "cells": [
  {
   "cell_type": "code",
   "execution_count": 10,
   "id": "48d61423-cc01-45e1-bb3a-59dc18416a9f",
   "metadata": {},
   "outputs": [
    {
     "name": "stdout",
     "output_type": "stream",
     "text": [
      "The autoreload extension is already loaded. To reload it, use:\n",
      "  %reload_ext autoreload\n"
     ]
    }
   ],
   "source": [
    "%load_ext autoreload\n",
    "%autoreload 2"
   ]
  },
  {
   "cell_type": "code",
   "execution_count": 2,
   "id": "ad098a9c-f432-4345-9a1e-3a7aeb72301b",
   "metadata": {},
   "outputs": [
    {
     "name": "stdout",
     "output_type": "stream",
     "text": [
      "WARNING:tensorflow:From C:\\Users\\timpo\\AppData\\Roaming\\Python\\Python312\\site-packages\\tf_keras\\src\\losses.py:2976: The name tf.losses.sparse_softmax_cross_entropy is deprecated. Please use tf.compat.v1.losses.sparse_softmax_cross_entropy instead.\n",
      "\n"
     ]
    }
   ],
   "source": [
    "import matplotlib.pyplot as plt\n",
    "import cv2\n",
    "import numpy as np\n",
    "from retinaface import RetinaFace\n",
    "import os"
   ]
  },
  {
   "cell_type": "code",
   "execution_count": 3,
   "id": "78be4b12-450d-4da5-b85d-3f929e41231e",
   "metadata": {},
   "outputs": [],
   "source": [
    "path = \"faces/\"\n",
    "images = os.listdir(path)"
   ]
  },
  {
   "cell_type": "code",
   "execution_count": 4,
   "id": "9ec3d5a3-4bab-4f80-9871-7e2824d3101a",
   "metadata": {},
   "outputs": [
    {
     "name": "stdout",
     "output_type": "stream",
     "text": [
      "6\n"
     ]
    }
   ],
   "source": [
    "print(len(images))"
   ]
  },
  {
   "cell_type": "code",
   "execution_count": 5,
   "id": "9d0f5eb7-3b8c-4946-86af-5a0a2d973fc8",
   "metadata": {},
   "outputs": [],
   "source": [
    "faceDetectionContainer = []\n",
    "for i in range(0,len(images)):\n",
    "    tempImg = cv2.imread(f\"{path}{images[i]}\")\n",
    "    tempImg = cv2.cvtColor(tempImg, cv2.COLOR_BGR2RGB)\n",
    "    faceDetectionContainer.append(RetinaFace.detect_faces(tempImg))"
   ]
  },
  {
   "cell_type": "code",
   "execution_count": null,
   "id": "b597c6a2-70f8-4801-a6e1-111ee81a6ade",
   "metadata": {},
   "outputs": [],
   "source": [
    "print(faceDetectionContainer)"
   ]
  },
  {
   "cell_type": "code",
   "execution_count": 7,
   "id": "4f867a5b-9693-4af3-8b60-de25b26501de",
   "metadata": {},
   "outputs": [],
   "source": [
    "import convolution_func_from_scratch as conv"
   ]
  },
  {
   "cell_type": "code",
   "execution_count": 8,
   "id": "98ce95ba-4d07-44f0-b898-4c6fc2fa4298",
   "metadata": {},
   "outputs": [],
   "source": [
    "my_custom_kernel = [[0,-1,0], [-1,5,-1],[0,-1,0]]"
   ]
  },
  {
   "cell_type": "code",
   "execution_count": 15,
   "id": "93715117-aa2d-4875-aa89-c5442e2d0dc0",
   "metadata": {},
   "outputs": [
    {
     "ename": "ValueError",
     "evalue": "mat1 and mat2 must have the same dimensions",
     "output_type": "error",
     "traceback": [
      "\u001b[1;31m---------------------------------------------------------------------------\u001b[0m",
      "\u001b[1;31mValueError\u001b[0m                                Traceback (most recent call last)",
      "Cell \u001b[1;32mIn[15], line 1\u001b[0m\n\u001b[1;32m----> 1\u001b[0m \u001b[43mconv\u001b[49m\u001b[38;5;241;43m.\u001b[39;49m\u001b[43mapplyConvOnImage\u001b[49m\u001b[43m(\u001b[49m\u001b[43mcv2\u001b[49m\u001b[38;5;241;43m.\u001b[39;49m\u001b[43mimread\u001b[49m\u001b[43m(\u001b[49m\u001b[38;5;124;43mf\u001b[39;49m\u001b[38;5;124;43m\"\u001b[39;49m\u001b[38;5;132;43;01m{\u001b[39;49;00m\u001b[43mpath\u001b[49m\u001b[38;5;132;43;01m}\u001b[39;49;00m\u001b[38;5;132;43;01m{\u001b[39;49;00m\u001b[43mimages\u001b[49m\u001b[43m[\u001b[49m\u001b[38;5;241;43m3\u001b[39;49m\u001b[43m]\u001b[49m\u001b[38;5;132;43;01m}\u001b[39;49;00m\u001b[38;5;124;43m\"\u001b[39;49m\u001b[43m)\u001b[49m\u001b[43m,\u001b[49m\u001b[43m \u001b[49m\u001b[43mmy_custom_kernel\u001b[49m\u001b[43m)\u001b[49m\n",
      "File \u001b[1;32m~\\Desktop\\Projects\\AIprojects\\SecondAssignment\\convolution_func_from_scratch.py:23\u001b[0m, in \u001b[0;36mapplyConvOnImage\u001b[1;34m(img, customKernel)\u001b[0m\n\u001b[0;32m     21\u001b[0m     \u001b[38;5;28;01mfor\u001b[39;00m j \u001b[38;5;129;01min\u001b[39;00m \u001b[38;5;28mrange\u001b[39m(\u001b[38;5;241m1\u001b[39m, img\u001b[38;5;241m.\u001b[39mshape[\u001b[38;5;241m0\u001b[39m], \u001b[38;5;241m3\u001b[39m):\n\u001b[0;32m     22\u001b[0m         tempMat \u001b[38;5;241m=\u001b[39m img[i\u001b[38;5;241m-\u001b[39m\u001b[38;5;241m1\u001b[39m:i\u001b[38;5;241m+\u001b[39m\u001b[38;5;241m2\u001b[39m][j\u001b[38;5;241m-\u001b[39m\u001b[38;5;241m1\u001b[39m:j\u001b[38;5;241m+\u001b[39m\u001b[38;5;241m2\u001b[39m]\n\u001b[1;32m---> 23\u001b[0m         img[i\u001b[38;5;241m-\u001b[39m\u001b[38;5;241m1\u001b[39m:i\u001b[38;5;241m+\u001b[39m\u001b[38;5;241m2\u001b[39m][j\u001b[38;5;241m-\u001b[39m\u001b[38;5;241m1\u001b[39m:j\u001b[38;5;241m+\u001b[39m\u001b[38;5;241m2\u001b[39m] \u001b[38;5;241m=\u001b[39m \u001b[43mmanualConvolution_3x3\u001b[49m\u001b[43m(\u001b[49m\u001b[43mtempMat\u001b[49m\u001b[43m \u001b[49m\u001b[43m,\u001b[49m\u001b[43m \u001b[49m\u001b[43mcustomKernel\u001b[49m\u001b[43m)\u001b[49m\n\u001b[0;32m     25\u001b[0m \u001b[38;5;28;01mreturn\u001b[39;00m img\n",
      "File \u001b[1;32m~\\Desktop\\Projects\\AIprojects\\SecondAssignment\\convolution_func_from_scratch.py:9\u001b[0m, in \u001b[0;36mmanualConvolution_3x3\u001b[1;34m(mat1, mat2)\u001b[0m\n\u001b[0;32m      6\u001b[0m outputmat \u001b[38;5;241m=\u001b[39m [[\u001b[38;5;241m1\u001b[39m \u001b[38;5;28;01mfor\u001b[39;00m y \u001b[38;5;129;01min\u001b[39;00m mat1[\u001b[38;5;241m0\u001b[39m]] \u001b[38;5;28;01mfor\u001b[39;00m x \u001b[38;5;129;01min\u001b[39;00m mat1]\n\u001b[0;32m      8\u001b[0m \u001b[38;5;28;01mif\u001b[39;00m \u001b[38;5;28mlen\u001b[39m(mat1) \u001b[38;5;241m!=\u001b[39m \u001b[38;5;28mlen\u001b[39m(mat2) \u001b[38;5;129;01mor\u001b[39;00m \u001b[38;5;28many\u001b[39m(\u001b[38;5;28mlen\u001b[39m(row1) \u001b[38;5;241m!=\u001b[39m \u001b[38;5;28mlen\u001b[39m(row2) \u001b[38;5;28;01mfor\u001b[39;00m row1, row2 \u001b[38;5;129;01min\u001b[39;00m \u001b[38;5;28mzip\u001b[39m(mat1, mat2)):\n\u001b[1;32m----> 9\u001b[0m     \u001b[38;5;28;01mraise\u001b[39;00m \u001b[38;5;167;01mValueError\u001b[39;00m(\u001b[38;5;124m\"\u001b[39m\u001b[38;5;124mmat1 and mat2 must have the same dimensions\u001b[39m\u001b[38;5;124m\"\u001b[39m)\n\u001b[0;32m     12\u001b[0m \u001b[38;5;28;01mfor\u001b[39;00m i \u001b[38;5;129;01min\u001b[39;00m \u001b[38;5;28mrange\u001b[39m(\u001b[38;5;241m0\u001b[39m,\u001b[38;5;28mlen\u001b[39m(mat1)):\n\u001b[0;32m     13\u001b[0m     \u001b[38;5;28;01mfor\u001b[39;00m j \u001b[38;5;129;01min\u001b[39;00m \u001b[38;5;28mrange\u001b[39m(\u001b[38;5;241m0\u001b[39m,\u001b[38;5;28mlen\u001b[39m(mat1[i])):\n",
      "\u001b[1;31mValueError\u001b[0m: mat1 and mat2 must have the same dimensions"
     ]
    }
   ],
   "source": [
    "conv.applyConvOnImage(cv2.imread(f\"{path}{images[3]}\"), my_custom_kernel)"
   ]
  },
  {
   "cell_type": "code",
   "execution_count": null,
   "id": "7d997bb0-21df-4480-a63b-3cb99ec6a91b",
   "metadata": {},
   "outputs": [],
   "source": []
  },
  {
   "cell_type": "code",
   "execution_count": null,
   "id": "a4641e24-020d-4a84-b902-5cbc6af492e5",
   "metadata": {},
   "outputs": [],
   "source": []
  }
 ],
 "metadata": {
  "kernelspec": {
   "display_name": "Python 3 (ipykernel)",
   "language": "python",
   "name": "python3"
  },
  "language_info": {
   "codemirror_mode": {
    "name": "ipython",
    "version": 3
   },
   "file_extension": ".py",
   "mimetype": "text/x-python",
   "name": "python",
   "nbconvert_exporter": "python",
   "pygments_lexer": "ipython3",
   "version": "3.12.4"
  }
 },
 "nbformat": 4,
 "nbformat_minor": 5
}
