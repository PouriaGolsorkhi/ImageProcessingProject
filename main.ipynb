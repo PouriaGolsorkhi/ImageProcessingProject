{
 "cells": [
  {
   "cell_type": "code",
   "execution_count": null,
   "id": "48d61423-cc01-45e1-bb3a-59dc18416a9f",
   "metadata": {},
   "outputs": [],
   "source": [
    "%load_ext autoreload\n",
    "%autoreload 2"
   ]
  },
  {
   "cell_type": "code",
   "execution_count": null,
   "id": "ad098a9c-f432-4345-9a1e-3a7aeb72301b",
   "metadata": {},
   "outputs": [],
   "source": [
    "import matplotlib.pyplot as plt\n",
    "import cv2\n",
    "import numpy as np\n",
    "from retinaface import RetinaFace\n",
    "import os"
   ]
  },
  {
   "cell_type": "code",
   "execution_count": null,
   "id": "78be4b12-450d-4da5-b85d-3f929e41231e",
   "metadata": {},
   "outputs": [],
   "source": [
    "path = \"faces/\"\n",
    "images = os.listdir(path)"
   ]
  },
  {
   "cell_type": "code",
   "execution_count": null,
   "id": "9ec3d5a3-4bab-4f80-9871-7e2824d3101a",
   "metadata": {},
   "outputs": [],
   "source": [
    "print(len(images))"
   ]
  },
  {
   "cell_type": "code",
   "execution_count": null,
   "id": "9d0f5eb7-3b8c-4946-86af-5a0a2d973fc8",
   "metadata": {},
   "outputs": [],
   "source": [
    "faceDetectionContainer = []\n",
    "for i in range(0,len(images)):\n",
    "    tempImg = cv2.imread(f\"{path}{images[i]}\")\n",
    "    tempImg = cv2.cvtColor(tempImg, cv2.COLOR_BGR2RGB)\n",
    "    faceDetectionContainer.append(RetinaFace.detect_faces(tempImg))"
   ]
  },
  {
   "cell_type": "code",
   "execution_count": null,
   "id": "b597c6a2-70f8-4801-a6e1-111ee81a6ade",
   "metadata": {},
   "outputs": [],
   "source": [
    "print(faceDetectionContainer)"
   ]
  },
  {
   "cell_type": "code",
   "execution_count": null,
   "id": "4f867a5b-9693-4af3-8b60-de25b26501de",
   "metadata": {},
   "outputs": [],
   "source": [
    "import convolution_func_from_scratch as conv"
   ]
  },
  {
   "cell_type": "code",
   "execution_count": null,
   "id": "98ce95ba-4d07-44f0-b898-4c6fc2fa4298",
   "metadata": {},
   "outputs": [],
   "source": [
    "identity_kernel = np.array([[0,0,0],[0,1,0], [0,0,0]])"
   ]
  },
  {
   "cell_type": "code",
   "execution_count": null,
   "id": "93715117-aa2d-4875-aa89-c5442e2d0dc0",
   "metadata": {},
   "outputs": [],
   "source": [
    "new_img = conv.applyConvOnImage(cv2.imread(f\"{path}{images[3]}\"), identity_kernel)"
   ]
  },
  {
   "cell_type": "code",
   "execution_count": null,
   "id": "3bd4fb58-9ae0-4942-be7e-1ac3cff0b8e6",
   "metadata": {},
   "outputs": [],
   "source": [
    "plt.imshow(cv2.imread(f\"{path}{images[3]}\").)"
   ]
  },
  {
   "cell_type": "code",
   "execution_count": null,
   "id": "91430893-6df3-4880-bf29-f6c6277016da",
   "metadata": {},
   "outputs": [],
   "source": [
    "plt.imshow(new_img)"
   ]
  },
  {
   "cell_type": "code",
   "execution_count": null,
   "id": "879ffb31-f800-455d-8a08-90f9991ad46e",
   "metadata": {},
   "outputs": [],
   "source": []
  }
 ],
 "metadata": {
  "kernelspec": {
   "display_name": "Python 3 (ipykernel)",
   "language": "python",
   "name": "python3"
  },
  "language_info": {
   "codemirror_mode": {
    "name": "ipython",
    "version": 3
   },
   "file_extension": ".py",
   "mimetype": "text/x-python",
   "name": "python",
   "nbconvert_exporter": "python",
   "pygments_lexer": "ipython3",
   "version": "3.12.4"
  }
 },
 "nbformat": 4,
 "nbformat_minor": 5
}
